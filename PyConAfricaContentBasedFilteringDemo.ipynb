{
  "nbformat": 4,
  "nbformat_minor": 0,
  "metadata": {
    "colab": {
      "provenance": [],
      "authorship_tag": "ABX9TyNzIhDAxs1GB77yNGmHLe7F",
      "include_colab_link": true
    },
    "kernelspec": {
      "name": "python3",
      "display_name": "Python 3"
    },
    "language_info": {
      "name": "python"
    }
  },
  "cells": [
    {
      "cell_type": "markdown",
      "metadata": {
        "id": "view-in-github",
        "colab_type": "text"
      },
      "source": [
        "<a href=\"https://colab.research.google.com/github/ArthurKakande/PyConAfrica2024/blob/main/PyConAfricaContentBasedFilteringDemo.ipynb\" target=\"_parent\"><img src=\"https://colab.research.google.com/assets/colab-badge.svg\" alt=\"Open In Colab\"/></a>"
      ]
    },
    {
      "cell_type": "code",
      "execution_count": 1,
      "metadata": {
        "colab": {
          "base_uri": "https://localhost:8080/"
        },
        "id": "gTt5VtJsAhP3",
        "outputId": "cca7c66c-1266-4786-c4f8-529aa0cfdf15",
        "collapsed": true
      },
      "outputs": [
        {
          "output_type": "stream",
          "name": "stdout",
          "text": [
            "Collecting intellikit\n",
            "  Downloading intellikit-0.0.5-py2.py3-none-any.whl.metadata (2.9 kB)\n",
            "Requirement already satisfied: numpy in /usr/local/lib/python3.10/dist-packages (from intellikit) (1.26.4)\n",
            "Requirement already satisfied: pandas in /usr/local/lib/python3.10/dist-packages (from intellikit) (2.1.4)\n",
            "Requirement already satisfied: scikit-learn in /usr/local/lib/python3.10/dist-packages (from intellikit) (1.5.2)\n",
            "Collecting Levenshtein (from intellikit)\n",
            "  Downloading levenshtein-0.26.0-cp310-cp310-manylinux_2_17_x86_64.manylinux2014_x86_64.whl.metadata (3.2 kB)\n",
            "Collecting sentence-transformers (from intellikit)\n",
            "  Downloading sentence_transformers-3.1.1-py3-none-any.whl.metadata (10 kB)\n",
            "Requirement already satisfied: nltk in /usr/local/lib/python3.10/dist-packages (from intellikit) (3.8.1)\n",
            "Collecting rapidfuzz<4.0.0,>=3.9.0 (from Levenshtein->intellikit)\n",
            "  Downloading rapidfuzz-3.10.0-cp310-cp310-manylinux_2_17_x86_64.manylinux2014_x86_64.whl.metadata (11 kB)\n",
            "Requirement already satisfied: click in /usr/local/lib/python3.10/dist-packages (from nltk->intellikit) (8.1.7)\n",
            "Requirement already satisfied: joblib in /usr/local/lib/python3.10/dist-packages (from nltk->intellikit) (1.4.2)\n",
            "Requirement already satisfied: regex>=2021.8.3 in /usr/local/lib/python3.10/dist-packages (from nltk->intellikit) (2024.9.11)\n",
            "Requirement already satisfied: tqdm in /usr/local/lib/python3.10/dist-packages (from nltk->intellikit) (4.66.5)\n",
            "Requirement already satisfied: python-dateutil>=2.8.2 in /usr/local/lib/python3.10/dist-packages (from pandas->intellikit) (2.8.2)\n",
            "Requirement already satisfied: pytz>=2020.1 in /usr/local/lib/python3.10/dist-packages (from pandas->intellikit) (2024.2)\n",
            "Requirement already satisfied: tzdata>=2022.1 in /usr/local/lib/python3.10/dist-packages (from pandas->intellikit) (2024.1)\n",
            "Requirement already satisfied: scipy>=1.6.0 in /usr/local/lib/python3.10/dist-packages (from scikit-learn->intellikit) (1.13.1)\n",
            "Requirement already satisfied: threadpoolctl>=3.1.0 in /usr/local/lib/python3.10/dist-packages (from scikit-learn->intellikit) (3.5.0)\n",
            "Requirement already satisfied: transformers<5.0.0,>=4.38.0 in /usr/local/lib/python3.10/dist-packages (from sentence-transformers->intellikit) (4.44.2)\n",
            "Requirement already satisfied: torch>=1.11.0 in /usr/local/lib/python3.10/dist-packages (from sentence-transformers->intellikit) (2.4.1+cu121)\n",
            "Requirement already satisfied: huggingface-hub>=0.19.3 in /usr/local/lib/python3.10/dist-packages (from sentence-transformers->intellikit) (0.24.7)\n",
            "Requirement already satisfied: Pillow in /usr/local/lib/python3.10/dist-packages (from sentence-transformers->intellikit) (10.4.0)\n",
            "Requirement already satisfied: filelock in /usr/local/lib/python3.10/dist-packages (from huggingface-hub>=0.19.3->sentence-transformers->intellikit) (3.16.1)\n",
            "Requirement already satisfied: fsspec>=2023.5.0 in /usr/local/lib/python3.10/dist-packages (from huggingface-hub>=0.19.3->sentence-transformers->intellikit) (2024.6.1)\n",
            "Requirement already satisfied: packaging>=20.9 in /usr/local/lib/python3.10/dist-packages (from huggingface-hub>=0.19.3->sentence-transformers->intellikit) (24.1)\n",
            "Requirement already satisfied: pyyaml>=5.1 in /usr/local/lib/python3.10/dist-packages (from huggingface-hub>=0.19.3->sentence-transformers->intellikit) (6.0.2)\n",
            "Requirement already satisfied: requests in /usr/local/lib/python3.10/dist-packages (from huggingface-hub>=0.19.3->sentence-transformers->intellikit) (2.32.3)\n",
            "Requirement already satisfied: typing-extensions>=3.7.4.3 in /usr/local/lib/python3.10/dist-packages (from huggingface-hub>=0.19.3->sentence-transformers->intellikit) (4.12.2)\n",
            "Requirement already satisfied: six>=1.5 in /usr/local/lib/python3.10/dist-packages (from python-dateutil>=2.8.2->pandas->intellikit) (1.16.0)\n",
            "Requirement already satisfied: sympy in /usr/local/lib/python3.10/dist-packages (from torch>=1.11.0->sentence-transformers->intellikit) (1.13.3)\n",
            "Requirement already satisfied: networkx in /usr/local/lib/python3.10/dist-packages (from torch>=1.11.0->sentence-transformers->intellikit) (3.3)\n",
            "Requirement already satisfied: jinja2 in /usr/local/lib/python3.10/dist-packages (from torch>=1.11.0->sentence-transformers->intellikit) (3.1.4)\n",
            "Requirement already satisfied: safetensors>=0.4.1 in /usr/local/lib/python3.10/dist-packages (from transformers<5.0.0,>=4.38.0->sentence-transformers->intellikit) (0.4.5)\n",
            "Requirement already satisfied: tokenizers<0.20,>=0.19 in /usr/local/lib/python3.10/dist-packages (from transformers<5.0.0,>=4.38.0->sentence-transformers->intellikit) (0.19.1)\n",
            "Requirement already satisfied: MarkupSafe>=2.0 in /usr/local/lib/python3.10/dist-packages (from jinja2->torch>=1.11.0->sentence-transformers->intellikit) (2.1.5)\n",
            "Requirement already satisfied: charset-normalizer<4,>=2 in /usr/local/lib/python3.10/dist-packages (from requests->huggingface-hub>=0.19.3->sentence-transformers->intellikit) (3.3.2)\n",
            "Requirement already satisfied: idna<4,>=2.5 in /usr/local/lib/python3.10/dist-packages (from requests->huggingface-hub>=0.19.3->sentence-transformers->intellikit) (3.10)\n",
            "Requirement already satisfied: urllib3<3,>=1.21.1 in /usr/local/lib/python3.10/dist-packages (from requests->huggingface-hub>=0.19.3->sentence-transformers->intellikit) (2.2.3)\n",
            "Requirement already satisfied: certifi>=2017.4.17 in /usr/local/lib/python3.10/dist-packages (from requests->huggingface-hub>=0.19.3->sentence-transformers->intellikit) (2024.8.30)\n",
            "Requirement already satisfied: mpmath<1.4,>=1.1.0 in /usr/local/lib/python3.10/dist-packages (from sympy->torch>=1.11.0->sentence-transformers->intellikit) (1.3.0)\n",
            "Downloading intellikit-0.0.5-py2.py3-none-any.whl (10 kB)\n",
            "Downloading levenshtein-0.26.0-cp310-cp310-manylinux_2_17_x86_64.manylinux2014_x86_64.whl (162 kB)\n",
            "\u001b[2K   \u001b[90m━━━━━━━━━━━━━━━━━━━━━━━━━━━━━━━━━━━━━━━━\u001b[0m \u001b[32m162.6/162.6 kB\u001b[0m \u001b[31m7.0 MB/s\u001b[0m eta \u001b[36m0:00:00\u001b[0m\n",
            "\u001b[?25hDownloading sentence_transformers-3.1.1-py3-none-any.whl (245 kB)\n",
            "\u001b[2K   \u001b[90m━━━━━━━━━━━━━━━━━━━━━━━━━━━━━━━━━━━━━━━━\u001b[0m \u001b[32m245.3/245.3 kB\u001b[0m \u001b[31m16.9 MB/s\u001b[0m eta \u001b[36m0:00:00\u001b[0m\n",
            "\u001b[?25hDownloading rapidfuzz-3.10.0-cp310-cp310-manylinux_2_17_x86_64.manylinux2014_x86_64.whl (3.1 MB)\n",
            "\u001b[2K   \u001b[90m━━━━━━━━━━━━━━━━━━━━━━━━━━━━━━━━━━━━━━━━\u001b[0m \u001b[32m3.1/3.1 MB\u001b[0m \u001b[31m78.6 MB/s\u001b[0m eta \u001b[36m0:00:00\u001b[0m\n",
            "\u001b[?25hInstalling collected packages: rapidfuzz, Levenshtein, sentence-transformers, intellikit\n",
            "Successfully installed Levenshtein-0.26.0 intellikit-0.0.5 rapidfuzz-3.10.0 sentence-transformers-3.1.1\n"
          ]
        }
      ],
      "source": [
        "!pip install intellikit"
      ]
    },
    {
      "cell_type": "code",
      "source": [
        "# prompt: generate code that inport a csv file. the file is a movies dataset. i would like to select a columns to focus on and have the content in these columns merged as one column called the document. then i would like to use the series_title column as the id column. then these should be used to select the top 5 recommednations based on a users query. assume the python package to use is intellikit\n",
        "\n",
        "import intellikit as ik\n",
        "import pandas as pd\n",
        "\n",
        "# Load the movies dataset\n",
        "movies = pd.read_csv(\"/content/imdb_top_1000.csv\")\n",
        "\n",
        "# Select the columns to focus on and merge them into a single column\n",
        "movies[\"document\"] = movies[[\"Series_Title\", \"Genre\", \"Overview\", \"Director\", \"Star1\", \"Star2\", \"Star3\", \"Star4\"]].apply(lambda x: \" \".join(x), axis=1)\n",
        "\n",
        "# Set the series_title column as the id column\n",
        "movies = movies.set_index(\"Series_Title\")\n",
        "\n",
        "# Get the user's query\n",
        "query = (\"Drama, A movie about conspiracy, C.I.A, spy\")\n",
        "\n",
        "# Get the top 5 recommendations\n",
        "recommendations = ik.vector_space_model(query, movies[\"document\"], k=5)\n",
        "\n",
        "# Print the recommendations\n",
        "print(\"Top 5 Recommendations:\")\n",
        "for doc, similarity in recommendations:\n",
        "    print(f\"Similarity: {similarity:.4f} - Movie: {doc}\")\n"
      ],
      "metadata": {
        "colab": {
          "base_uri": "https://localhost:8080/"
        },
        "id": "qyXY9lOtTiUg",
        "outputId": "ca22c107-df70-4060-80a9-a5f4f2ab011e"
      },
      "execution_count": 2,
      "outputs": [
        {
          "output_type": "stream",
          "name": "stderr",
          "text": [
            "/usr/local/lib/python3.10/dist-packages/sentence_transformers/cross_encoder/CrossEncoder.py:13: TqdmExperimentalWarning: Using `tqdm.autonotebook.tqdm` in notebook mode. Use `tqdm.tqdm` instead to force console mode (e.g. in jupyter console)\n",
            "  from tqdm.autonotebook import tqdm, trange\n"
          ]
        },
        {
          "output_type": "stream",
          "name": "stdout",
          "text": [
            "Top 5 Recommendations:\n",
            "Similarity: 0.2722 - Movie: A Wednesday Action, Crime, Drama A retiring police officer reminisces about the most astounding day of his career. About a case that was never filed but continues to haunt him in his memories - the case of a man and a Wednesday. Neeraj Pandey Anupam Kher Naseeruddin Shah Jimmy Sheirgill Aamir Bashir\n",
            "Similarity: 0.2663 - Movie: Sunset Blvd. Drama, Film-Noir A screenwriter develops a dangerous relationship with a faded film star determined to make a triumphant return. Billy Wilder William Holden Gloria Swanson Erich von Stroheim Nancy Olson\n",
            "Similarity: 0.2631 - Movie: 21 Grams Crime, Drama, Thriller A freak accident brings together a critically ill mathematician, a grieving mother, and a born-again ex-con. Alejandro G. Iñárritu Sean Penn Benicio Del Toro Naomi Watts Danny Huston\n",
            "Similarity: 0.2590 - Movie: Donnie Darko Drama, Mystery, Sci-Fi After narrowly escaping a bizarre accident, a troubled teenager is plagued by visions of a man in a large rabbit suit who manipulates him to commit a series of crimes. Richard Kelly Jake Gyllenhaal Jena Malone Mary McDonnell Holmes Osborne\n",
            "Similarity: 0.2570 - Movie: Blood Diamond Adventure, Drama, Thriller A fisherman, a smuggler, and a syndicate of businessmen match wits over the possession of a priceless diamond. Edward Zwick Leonardo DiCaprio Djimon Hounsou Jennifer Connelly Kagiso Kuypers\n"
          ]
        },
        {
          "output_type": "stream",
          "name": "stderr",
          "text": [
            "/usr/local/lib/python3.10/dist-packages/intellikit/ir.py:63: FutureWarning: Series.__getitem__ treating keys as positions is deprecated. In a future version, integer keys will always be treated as labels (consistent with DataFrame behavior). To access a value by position, use `ser.iloc[pos]`\n",
            "  top_k_similar_docs.append((documents[doc_index], similarities[i][1]))\n"
          ]
        }
      ]
    },
    {
      "cell_type": "code",
      "source": [
        "# Recommend movies by Leonardo Dicaprio\n",
        "query = \"Drama, Martin Scorsese, Leonardo Dicaprio\"\n",
        "\n",
        "top_similar_docs_vsm = ik.vector_space_model(query, movies[\"document\"], k=5)\n",
        "\n",
        "#To print the retrieved documents\n",
        "print(\"Top 5 similar movies with Leo directed by Martin:\")\n",
        "for doc, score in top_similar_docs_vsm:\n",
        "    print(f\"Score: {score:.4f} - Movie: {doc}\")"
      ],
      "metadata": {
        "colab": {
          "base_uri": "https://localhost:8080/"
        },
        "id": "fMEORzMXQyBc",
        "outputId": "aef7c3d6-9239-487e-bdab-8657852ffe49"
      },
      "execution_count": 4,
      "outputs": [
        {
          "output_type": "stream",
          "name": "stdout",
          "text": [
            "Top 5 similar movies with Leo directed by Martin:\n",
            "Score: 0.2476 - Movie: The Departed Crime, Drama, Thriller An undercover cop and a mole in the police attempt to identify each other while infiltrating an Irish gang in South Boston. Martin Scorsese Leonardo DiCaprio Matt Damon Jack Nicholson Mark Wahlberg\n",
            "Score: 0.2120 - Movie: Titanic Drama, Romance A seventeen-year-old aristocrat falls in love with a kind but poor artist aboard the luxurious, ill-fated R.M.S. Titanic. James Cameron Leonardo DiCaprio Kate Winslet Billy Zane Kathy Bates\n",
            "Score: 0.1875 - Movie: Shutter Island Mystery, Thriller In 1954, a U.S. Marshal investigates the disappearance of a murderer who escaped from a hospital for the criminally insane. Martin Scorsese Leonardo DiCaprio Emily Mortimer Mark Ruffalo Ben Kingsley\n",
            "Score: 0.1853 - Movie: Django Unchained Drama, Western With the help of a German bounty hunter, a freed slave sets out to rescue his wife from a brutal Mississippi plantation owner. Quentin Tarantino Jamie Foxx Christoph Waltz Leonardo DiCaprio Kerry Washington\n",
            "Score: 0.1771 - Movie: Blood Diamond Adventure, Drama, Thriller A fisherman, a smuggler, and a syndicate of businessmen match wits over the possession of a priceless diamond. Edward Zwick Leonardo DiCaprio Djimon Hounsou Jennifer Connelly Kagiso Kuypers\n"
          ]
        }
      ]
    },
    {
      "cell_type": "code",
      "source": [
        "# Movies woth Tom, none of the movies in the dataset had Tom Holland\n",
        "query = \"Drama, Tom Holland\"\n",
        "\n",
        "top_similar_docs_vsm = ik.vector_space_model(query, movies[\"document\"], k=5)\n",
        "\n",
        "#To print the retrieved documents\n",
        "print(\"Top 5 movies with Tom Holland:\")\n",
        "for doc, score in top_similar_docs_vsm:\n",
        "    print(f\"Score: {score:.4f} - Movie: {doc}\")"
      ],
      "metadata": {
        "colab": {
          "base_uri": "https://localhost:8080/"
        },
        "id": "_IknnsGEUZLa",
        "outputId": "2d141cc6-5fe4-4a70-9bbf-0fb31db87c9e"
      },
      "execution_count": 6,
      "outputs": [
        {
          "output_type": "stream",
          "name": "stdout",
          "text": [
            "Top 5 movies with Tom Holland:\n",
            "Score: 0.2403 - Movie: Saving Private Ryan Drama, War Following the Normandy Landings, a group of U.S. soldiers go behind enemy lines to retrieve a paratrooper whose brothers have been killed in action. Steven Spielberg Tom Hanks Matt Damon Tom Sizemore Edward Burns\n",
            "Score: 0.1847 - Movie: Lola rennt Crime, Drama, Thriller After a botched money delivery, Lola has 20 minutes to come up with 100,000 Deutschmarks. Tom Tykwer Franka Potente Moritz Bleibtreu Herbert Knaup Nina Petri\n",
            "Score: 0.1819 - Movie: Peeping Tom Drama, Horror, Thriller A young man murders women, using a movie camera to film their dying expressions of terror. Michael Powell Karlheinz Böhm Anna Massey Moira Shearer Maxine Audley\n",
            "Score: 0.1766 - Movie: A Few Good Men Drama, Thriller Military lawyer Lieutenant Daniel Kaffee defends Marines accused of murder. They contend they were acting under orders. Rob Reiner Tom Cruise Jack Nicholson Demi Moore Kevin Bacon\n",
            "Score: 0.1717 - Movie: Cast Away Adventure, Drama, Romance A FedEx executive undergoes a physical and emotional transformation after crash landing on a deserted island. Robert Zemeckis Tom Hanks Helen Hunt Paul Sanchez Lari White\n"
          ]
        }
      ]
    },
    {
      "cell_type": "code",
      "source": [
        "# Recommend, movies with Leonardo DiCaprio\n",
        "query = \"Drama, Leonardo DiCaprio\"\n",
        "\n",
        "top_similar_docs_vsm = ik.vector_space_model(query, movies[\"document\"], k=5)\n",
        "\n",
        "#To print the retrieved documents\n",
        "print(\"Top 5 Movies with Leonardo, no Martin is specified in this case:\")\n",
        "for doc, score in top_similar_docs_vsm:\n",
        "    print(f\"Score: {score:.4f} - Movie: {doc}\")"
      ],
      "metadata": {
        "colab": {
          "base_uri": "https://localhost:8080/"
        },
        "id": "DS6lQmNUUzG6",
        "outputId": "230e5158-0e48-45c5-ca91-23927e225afe"
      },
      "execution_count": 7,
      "outputs": [
        {
          "output_type": "stream",
          "name": "stdout",
          "text": [
            "Top 5 Movies with Leonardo, no Martin is specified in this case:\n",
            "Score: 0.2736 - Movie: Titanic Drama, Romance A seventeen-year-old aristocrat falls in love with a kind but poor artist aboard the luxurious, ill-fated R.M.S. Titanic. James Cameron Leonardo DiCaprio Kate Winslet Billy Zane Kathy Bates\n",
            "Score: 0.2392 - Movie: The Departed Crime, Drama, Thriller An undercover cop and a mole in the police attempt to identify each other while infiltrating an Irish gang in South Boston. Martin Scorsese Leonardo DiCaprio Matt Damon Jack Nicholson Mark Wahlberg\n",
            "Score: 0.2392 - Movie: Django Unchained Drama, Western With the help of a German bounty hunter, a freed slave sets out to rescue his wife from a brutal Mississippi plantation owner. Quentin Tarantino Jamie Foxx Christoph Waltz Leonardo DiCaprio Kerry Washington\n",
            "Score: 0.2287 - Movie: Blood Diamond Adventure, Drama, Thriller A fisherman, a smuggler, and a syndicate of businessmen match wits over the possession of a priceless diamond. Edward Zwick Leonardo DiCaprio Djimon Hounsou Jennifer Connelly Kagiso Kuypers\n",
            "Score: 0.1610 - Movie: Shutter Island Mystery, Thriller In 1954, a U.S. Marshal investigates the disappearance of a murderer who escaped from a hospital for the criminally insane. Martin Scorsese Leonardo DiCaprio Emily Mortimer Mark Ruffalo Ben Kingsley\n"
          ]
        }
      ]
    },
    {
      "cell_type": "code",
      "source": [
        "# Recommending a move based on a description\n",
        "query = \"Drama, A boy gets lost and is adopted by an australian couple\"\n",
        "\n",
        "top_similar_docs_vsm = ik.vector_space_model(query, movies[\"document\"], k=5)\n",
        "\n",
        "#To print the retrieved documents\n",
        "print(\"Top 5 similar Movies based off a description of a boy who gets lost\")\n",
        "for doc, score in top_similar_docs_vsm:\n",
        "    print(f\"Score: {score:.4f} - Movie: {doc}\")"
      ],
      "metadata": {
        "colab": {
          "base_uri": "https://localhost:8080/"
        },
        "id": "wurN-savZr4f",
        "outputId": "e3afefb8-d7b0-41a1-c7b6-842fd0d25c58"
      },
      "execution_count": 8,
      "outputs": [
        {
          "output_type": "stream",
          "name": "stdout",
          "text": [
            "Top 5 similar Movies based off a description of a boy who gets lost\n",
            "Score: 0.4021 - Movie: Lion Biography, Drama A five-year-old Indian boy is adopted by an Australian couple after getting lost hundreds of kilometers from home. 25 years later, he sets out to find his lost family. Garth Davis Dev Patel Nicole Kidman Rooney Mara Sunny Pawar\n",
            "Score: 0.3432 - Movie: Veer-Zaara Drama, Family, Musical Veer-Zaara is a saga of love, separation, courage and sacrifice. A love story that is an inspiration and will remain a legend forever. Yash Chopra Shah Rukh Khan Preity Zinta Rani Mukerji Kirron Kher\n",
            "Score: 0.3427 - Movie: As Good as It Gets Comedy, Drama, Romance A single mother and waitress, a misanthropic author, and a gay artist form an unlikely friendship after the artist is assaulted in a robbery. James L. Brooks Jack Nicholson Helen Hunt Greg Kinnear Cuba Gooding Jr.\n",
            "Score: 0.3200 - Movie: Primal Fear Crime, Drama, Mystery An altar boy is accused of murdering a priest, and the truth is buried several layers deep. Gregory Hoblit Richard Gere Laura Linney Edward Norton John Mahoney\n",
            "Score: 0.3047 - Movie: Misery Drama, Thriller After a famous author is rescued from a car crash by a fan of his novels, he comes to realize that the care he is receiving is only the beginning of a nightmare of captivity and abuse. Rob Reiner James Caan Kathy Bates Richard Farnsworth Frances Sternhagen\n"
          ]
        }
      ]
    }
  ]
}